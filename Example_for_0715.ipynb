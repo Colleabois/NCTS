{
  "nbformat": 4,
  "nbformat_minor": 0,
  "metadata": {
    "colab": {
      "name": "Example.ipynb",
      "provenance": [],
      "collapsed_sections": [],
      "toc_visible": true,
      "authorship_tag": "ABX9TyMjoPqIJeLZBGNFOU18imwj",
      "include_colab_link": true
    },
    "kernelspec": {
      "name": "python3",
      "display_name": "Python 3"
    }
  },
  "cells": [
    {
      "cell_type": "markdown",
      "metadata": {
        "id": "view-in-github",
        "colab_type": "text"
      },
      "source": [
        "<a href=\"https://colab.research.google.com/github/juitinglu/NCTS/blob/master/Example_for_0715.ipynb\" target=\"_parent\"><img src=\"https://colab.research.google.com/assets/colab-badge.svg\" alt=\"Open In Colab\"/></a>"
      ]
    },
    {
      "cell_type": "code",
      "metadata": {
        "id": "i0QwQ6gu-AZH",
        "colab_type": "code",
        "colab": {
          "base_uri": "https://localhost:8080/",
          "height": 122
        },
        "outputId": "497d3841-5ffd-4031-a0e9-1e6298c46def"
      },
      "source": [
        "from google.colab import drive\n",
        "drive.mount('/content/gdrive')"
      ],
      "execution_count": 2,
      "outputs": [
        {
          "output_type": "stream",
          "text": [
            "Go to this URL in a browser: https://accounts.google.com/o/oauth2/auth?client_id=947318989803-6bn6qk8qdgf4n4g3pfee6491hc0brc4i.apps.googleusercontent.com&redirect_uri=urn%3aietf%3awg%3aoauth%3a2.0%3aoob&response_type=code&scope=email%20https%3a%2f%2fwww.googleapis.com%2fauth%2fdocs.test%20https%3a%2f%2fwww.googleapis.com%2fauth%2fdrive%20https%3a%2f%2fwww.googleapis.com%2fauth%2fdrive.photos.readonly%20https%3a%2f%2fwww.googleapis.com%2fauth%2fpeopleapi.readonly\n",
            "\n",
            "Enter your authorization code:\n",
            "··········\n",
            "Mounted at /content/gdrive\n"
          ],
          "name": "stdout"
        }
      ]
    },
    {
      "cell_type": "code",
      "metadata": {
        "id": "PM8qKPdVDr9s",
        "colab_type": "code",
        "colab": {
          "base_uri": "https://localhost:8080/",
          "height": 34
        },
        "outputId": "f517acf1-d40f-4f83-b2a8-e59b371d8a1e"
      },
      "source": [
        "!mkdir -p gdrive/My\\ Drive/MedaSchool\n",
        "myDirectoryPath = '/content/gdrive/My Drive/MedaSchool'\n",
        "print(myDirectoryPath)"
      ],
      "execution_count": 3,
      "outputs": [
        {
          "output_type": "stream",
          "text": [
            "/content/gdrive/My Drive/MedaSchool\n"
          ],
          "name": "stdout"
        }
      ]
    },
    {
      "cell_type": "code",
      "metadata": {
        "id": "J9rP-05-DsMe",
        "colab_type": "code",
        "colab": {
          "base_uri": "https://localhost:8080/",
          "height": 269
        },
        "outputId": "342366df-3ddd-4df5-ea50-f20bda9d26ce"
      },
      "source": [
        "import matplotlib.pyplot as plt\n",
        "from skimage.data import shepp_logan_phantom\n",
        "image = shepp_logan_phantom()\n",
        "plt.imshow(image, cmap ='gray')\n",
        "\n",
        "# Save the image to your directory\n",
        "import os \n",
        "imageSaveName = os.path.join(myDirectoryPath, 'shepp_logan_phantom')\n",
        "plt.savefig(imageSaveName, format='png' )\n",
        "\n"
      ],
      "execution_count": 12,
      "outputs": [
        {
          "output_type": "display_data",
          "data": {
            "image/png": "[encoded data removed]",
            "text/plain": [
              "<Figure size 432x288 with 1 Axes>"
            ]
          },
          "metadata": {
            "tags": [],
            "needs_background": "light"
          }
        }
      ]
    },
    {
      "cell_type": "markdown",
      "metadata": {
        "id": "JXFjWcn7w63f",
        "colab_type": "text"
      },
      "source": [
        "Title\n",
        "===========\n",
        "\n",
        "# Title\n",
        "## Subtitle\n",
        "### Subsubsubtitle\n",
        "\n"
      ]
    },
    {
      "cell_type": "markdown",
      "metadata": {
        "id": "V4pU7K_C-AiW",
        "colab_type": "text"
      },
      "source": [
        "$\\displaystyle{\\tan(\\alpha+\\beta) = \\frac{\\tan \\alpha +\\tan \\beta}{1-\\tan \\alpha \\tan \\beta }}$ "
      ]
    },
    {
      "cell_type": "markdown",
      "metadata": {
        "id": "yt-osqt9GzMb",
        "colab_type": "text"
      },
      "source": [
        "# Title 1\n",
        "## Title 2\n",
        "### Title 3\n",
        "#### t\n",
        "##### t\n",
        "###### t\n",
        "####### t"
      ]
    },
    {
      "cell_type": "code",
      "metadata": {
        "id": "bJeE_24AmXE2",
        "colab_type": "code",
        "colab": {
          "base_uri": "https://localhost:8080/",
          "height": 35
        },
        "outputId": "2cd5c02c-f063-48f8-982b-487109289e21"
      },
      "source": [
        "import tensorflow as tf\n",
        "tf.test.gpu_device_name()"
      ],
      "execution_count": null,
      "outputs": [
        {
          "output_type": "execute_result",
          "data": {
            "application/vnd.google.colaboratory.intrinsic": {
              "type": "string"
            },
            "text/plain": [
              "'/device:GPU:0'"
            ]
          },
          "metadata": {
            "tags": []
          },
          "execution_count": 1
        }
      ]
    },
    {
      "cell_type": "code",
      "metadata": {
        "id": "-CGwIo6XrwAA",
        "colab_type": "code",
        "colab": {
          "base_uri": "https://localhost:8080/",
          "height": 476
        },
        "outputId": "7de23f9c-5f14-4274-9b72-6293e95180a6"
      },
      "source": [
        "from tensorflow.python.client import device_lib\n",
        "device_lib.list_local_devices()"
      ],
      "execution_count": null,
      "outputs": [
        {
          "output_type": "execute_result",
          "data": {
            "text/plain": [
              "[name: \"/device:CPU:0\"\n",
              " device_type: \"CPU\"\n",
              " memory_limit: 268435456\n",
              " locality {\n",
              " }\n",
              " incarnation: 4326052858362910847, name: \"/device:XLA_CPU:0\"\n",
              " device_type: \"XLA_CPU\"\n",
              " memory_limit: 17179869184\n",
              " locality {\n",
              " }\n",
              " incarnation: 17346332133977938354\n",
              " physical_device_desc: \"device: XLA_CPU device\", name: \"/device:XLA_GPU:0\"\n",
              " device_type: \"XLA_GPU\"\n",
              " memory_limit: 17179869184\n",
              " locality {\n",
              " }\n",
              " incarnation: 16241027745611298508\n",
              " physical_device_desc: \"device: XLA_GPU device\", name: \"/device:GPU:0\"\n",
              " device_type: \"GPU\"\n",
              " memory_limit: 15701463552\n",
              " locality {\n",
              "   bus_id: 1\n",
              "   links {\n",
              "   }\n",
              " }\n",
              " incarnation: 10000826594306840359\n",
              " physical_device_desc: \"device: 0, name: Tesla P100-PCIE-16GB, pci bus id: 0000:00:04.0, compute capability: 6.0\"]"
            ]
          },
          "metadata": {
            "tags": []
          },
          "execution_count": 2
        }
      ]
    },
    {
      "cell_type": "markdown",
      "metadata": {
        "id": "630kBHZBr8Ho",
        "colab_type": "text"
      },
      "source": [
        "RAM"
      ]
    },
    {
      "cell_type": "code",
      "metadata": {
        "id": "MCo6ljEAr7Is",
        "colab_type": "code",
        "colab": {
          "base_uri": "https://localhost:8080/",
          "height": 816
        },
        "outputId": "73538611-828f-4fdf-e00e-f2cebd55a817"
      },
      "source": [
        "!cat /proc/meminfo"
      ],
      "execution_count": null,
      "outputs": [
        {
          "output_type": "stream",
          "text": [
            "MemTotal:       13333556 kB\n",
            "MemFree:        10590828 kB\n",
            "MemAvailable:   12405416 kB\n",
            "Buffers:           71504 kB\n",
            "Cached:          1890236 kB\n",
            "SwapCached:            0 kB\n",
            "Active:           813028 kB\n",
            "Inactive:        1674064 kB\n",
            "Active(anon):     493088 kB\n",
            "Inactive(anon):      316 kB\n",
            "Active(file):     319940 kB\n",
            "Inactive(file):  1673748 kB\n",
            "Unevictable:           0 kB\n",
            "Mlocked:               0 kB\n",
            "SwapTotal:             0 kB\n",
            "SwapFree:              0 kB\n",
            "Dirty:                 0 kB\n",
            "Writeback:             0 kB\n",
            "AnonPages:        525320 kB\n",
            "Mapped:           338640 kB\n",
            "Shmem:               904 kB\n",
            "Slab:             159680 kB\n",
            "SReclaimable:     123608 kB\n",
            "SUnreclaim:        36072 kB\n",
            "KernelStack:        3568 kB\n",
            "PageTables:         6260 kB\n",
            "NFS_Unstable:          0 kB\n",
            "Bounce:                0 kB\n",
            "WritebackTmp:          0 kB\n",
            "CommitLimit:     6666776 kB\n",
            "Committed_AS:    2656528 kB\n",
            "VmallocTotal:   34359738367 kB\n",
            "VmallocUsed:           0 kB\n",
            "VmallocChunk:          0 kB\n",
            "Percpu:              920 kB\n",
            "AnonHugePages:         0 kB\n",
            "ShmemHugePages:        0 kB\n",
            "ShmemPmdMapped:        0 kB\n",
            "HugePages_Total:       0\n",
            "HugePages_Free:        0\n",
            "HugePages_Rsvd:        0\n",
            "HugePages_Surp:        0\n",
            "Hugepagesize:       2048 kB\n",
            "Hugetlb:               0 kB\n",
            "DirectMap4k:       74940 kB\n",
            "DirectMap2M:     6215680 kB\n",
            "DirectMap1G:     9437184 kB\n"
          ],
          "name": "stdout"
        }
      ]
    },
    {
      "cell_type": "markdown",
      "metadata": {
        "id": "wF8F3ZOWmfip",
        "colab_type": "text"
      },
      "source": [
        "$\\frac{1}{2}$"
      ]
    }
  ]
}